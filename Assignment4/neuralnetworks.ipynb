{
 "cells": [
  {
   "cell_type": "code",
   "execution_count": 1,
   "id": "cf2875c4",
   "metadata": {},
   "outputs": [
    {
     "name": "stdout",
     "output_type": "stream",
     "text": [
      "(20, 2)\n",
      "(20,)\n"
     ]
    }
   ],
   "source": [
    "import numpy as np\n",
    "import matplotlib.pyplot as plt\n",
    "mean_0=[-1, -1]\n",
    "mean_1=[1, 1]\n",
    "cov=np.eye(2)\n",
    "n_samples=10\n",
    "X0=np.random.multivariate_normal(mean_0,cov,n_samples)\n",
    "X1=np.random.multivariate_normal(mean_1,cov,n_samples)\n",
    "y0=np.zeros(n_samples)\n",
    "y1=np.ones(n_samples)\n",
    "X=np.vstack((X0, X1))\n",
    "Y=np.hstack((y0, y1))\n",
    "print(X.shape)\n",
    "print(Y.shape)\n",
    "indices = np.random.permutation(len(X))\n",
    "train_idx = indices[:10]\n",
    "test_idx = indices[10:]\n",
    "X_train, y_train = X[train_idx], Y[train_idx]\n",
    "X_test, y_test = X[test_idx], Y[test_idx]\n"
   ]
  },
  {
   "cell_type": "code",
   "execution_count": 2,
   "id": "10b55f10",
   "metadata": {},
   "outputs": [],
   "source": [
    "w1=np.random.rand()\n",
    "w2=np.random.rand()\n",
    "w3=np.random.rand()\n",
    "def sigmoid(x):\n",
    "    return 1/(1+np.exp(-x))\n",
    "iter=0\n",
    "lr=0.1\n",
    "while(iter<=200):\n",
    "    allClassified=True\n",
    "    for i in range(10):\n",
    "        x1=X_train[i][0]\n",
    "        x2=X_train[i][1]\n",
    "        y=y_train[i]\n",
    "        y_hat=w3*sigmoid(x1*w1+x2*w2)\n",
    "        if(y_hat==y):\n",
    "            continue\n",
    "        else:\n",
    "            allClassified=False\n",
    "            a=x1*w1+x2*w2\n",
    "            sig_a=sigmoid(a)\n",
    "            w3_new=w3-lr*(2*(w3*sig_a-y)*sig_a)#Gradient descent for w3\n",
    "            l_gradient_a=2*(w3*sig_a-y)*w3*sig_a*(1-sig_a)\n",
    "            w1_new=w1-lr*l_gradient_a*x1#Gradient descent for w1\n",
    "            w2_new=w2-lr*l_gradient_a*x2#Gradient descent for w2\n",
    "            w1=w1_new\n",
    "            w2=w2_new\n",
    "            w3=w3_new\n",
    "    iter+=1\n",
    "    if(allClassified):\n",
    "        break       "
   ]
  },
  {
   "cell_type": "code",
   "execution_count": 3,
   "id": "95efb9f3",
   "metadata": {},
   "outputs": [
    {
     "name": "stdout",
     "output_type": "stream",
     "text": [
      "Mean Squared Error on Test Set: 0.2\n"
     ]
    }
   ],
   "source": [
    "mse=0\n",
    "for i in range(len(X_test)):\n",
    "    x1,x2=X_test[i]\n",
    "    y=y_test[i]\n",
    "    a=x1*w1+x2*w2\n",
    "    sig_a=sigmoid(a)\n",
    "    y_hat=w3*sig_a\n",
    "    if(y_hat>0.5):\n",
    "        y_hat=1\n",
    "    else:\n",
    "        y_hat=0\n",
    "    mse+=(y_hat-y)**2\n",
    "\n",
    "mse/=len(X_test)\n",
    "print(\"Mean Squared Error on Test Set:\", mse)\n"
   ]
  }
 ],
 "metadata": {
  "kernelspec": {
   "display_name": "Python 3",
   "language": "python",
   "name": "python3"
  },
  "language_info": {
   "codemirror_mode": {
    "name": "ipython",
    "version": 3
   },
   "file_extension": ".py",
   "mimetype": "text/x-python",
   "name": "python",
   "nbconvert_exporter": "python",
   "pygments_lexer": "ipython3",
   "version": "3.10.2"
  }
 },
 "nbformat": 4,
 "nbformat_minor": 5
}
