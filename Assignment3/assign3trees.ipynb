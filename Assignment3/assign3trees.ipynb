{
 "cells": [
  {
   "cell_type": "markdown",
   "metadata": {},
   "source": [
    "Reading data"
   ]
  },
  {
   "cell_type": "code",
   "execution_count": 1,
   "metadata": {},
   "outputs": [
    {
     "name": "stdout",
     "output_type": "stream",
     "text": [
      "[[25  2  0  0]\n",
      " [30  2  0  1]\n",
      " [35  1  0  0]\n",
      " [40  0  0  0]\n",
      " [45  0  1  0]\n",
      " [50  0  1  1]\n",
      " [55  1  1  1]\n",
      " [60  2  0  0]]\n"
     ]
    },
    {
     "name": "stderr",
     "output_type": "stream",
     "text": [
      "C:\\Users\\varun\\AppData\\Local\\Temp\\ipykernel_4372\\2296405776.py:10: FutureWarning: Downcasting behavior in `replace` is deprecated and will be removed in a future version. To retain the old behavior, explicitly call `result.infer_objects(copy=False)`. To opt-in to the future behavior, set `pd.set_option('future.no_silent_downcasting', True)`\n",
      "  df.replace(mappings,inplace=True)\n"
     ]
    }
   ],
   "source": [
    "import pandas as pd\n",
    "import numpy as np\n",
    "df = pd.read_csv(\"data.csv\")\n",
    "mappings ={\n",
    "    \"Income\":{\"Low\":0,\"Medium\":1,\"High\":2},\n",
    "    \"Student\":{\"No\":0,\"Yes\":1},\n",
    "    \"Credit Rating\":{\"Fair\":0,\"Excellent\":1},\n",
    "    \"Buy Computer\":{\"No\":0,\"Yes\":1}\n",
    "}\n",
    "df.replace(mappings,inplace=True)\n",
    "X = df.drop(columns=[\"Buy Computer\"]).to_numpy()\n",
    "y = df[\"Buy Computer\"].to_numpy()\n",
    "print(X)\n"
   ]
  },
  {
   "cell_type": "markdown",
   "metadata": {},
   "source": [
    "Finding cutpoints"
   ]
  },
  {
   "cell_type": "code",
   "execution_count": 41,
   "metadata": {},
   "outputs": [],
   "source": [
    "def find_cutpoints(X,dimension=[0,1,2,3]):\n",
    "    cutpoints=[]\n",
    "    X=np.array(X)\n",
    "    for i in range(0,X.shape[1]):\n",
    "        sorted_X=sorted(X[:,i])\n",
    "        s=set()\n",
    "        for j in range(1,len(sorted_X)):\n",
    "            if sorted_X[j - 1]!=sorted_X[j]:\n",
    "                s.add((sorted_X[j - 1]+sorted_X[j])/2)\n",
    "        cutpoints.append(sorted(list(s)))\n",
    "    for i in range(4):\n",
    "        if(i not in dimension):\n",
    "            cutpoints[i]=[]\n",
    "    return cutpoints\n"
   ]
  },
  {
   "cell_type": "markdown",
   "metadata": {},
   "source": [
    "Gini Index=2*p*(1-p)"
   ]
  },
  {
   "cell_type": "code",
   "execution_count": 42,
   "metadata": {},
   "outputs": [],
   "source": [
    "def GiniIndex(left_data,right_data):\n",
    "    nyes=0\n",
    "    for i in left_data:\n",
    "        if(i==1):\n",
    "            nyes+=1\n",
    "    gleft=2*(nyes/len(left_data))*(1-(nyes)/len(left_data))\n",
    "    nyes=0\n",
    "    for i in right_data:\n",
    "        if(i==1):\n",
    "            nyes+=1\n",
    "    gright=2*(nyes/len(right_data))*(1-(nyes)/len(right_data))\n",
    "    gTotal=((len(left_data))/(len(left_data)+len(right_data)))*gleft\n",
    "    gTotal+=((len(right_data))/(len(left_data)+len(right_data)))*gright\n",
    "    return gTotal\n",
    "\n",
    "    "
   ]
  },
  {
   "cell_type": "markdown",
   "metadata": {},
   "source": [
    "Making the Tree"
   ]
  },
  {
   "cell_type": "code",
   "execution_count": 43,
   "metadata": {},
   "outputs": [],
   "source": [
    "class TreeNode:\n",
    "    def __init__(self,dimension=None,cutpoint=None,left=None,right=None,prediction=None):\n",
    "        self.dimension=dimension\n",
    "        self.cutpoint=cutpoint\n",
    "        self.left=left\n",
    "        self.right=right\n",
    "        self.prediction=prediction\n",
    "def best_cut(X,y,cutpoints,used_cuts):\n",
    "    dim=None\n",
    "    cutpoint=None\n",
    "    gini=float('inf')\n",
    "    for d in range(X.shape[1]):\n",
    "        for cut in cutpoints[d]:\n",
    "            if(d,cut) in used_cuts:\n",
    "                continue\n",
    "            else:\n",
    "                X_left=[]\n",
    "                y_left=[]\n",
    "                X_right=[]\n",
    "                y_right=[]\n",
    "                for i in range(X.shape[0]):\n",
    "                    if(X[i][d]<=cut):\n",
    "                        X_left.append(X[i])\n",
    "                        y_left.append(y[i])\n",
    "                    else:\n",
    "                        X_right.append(X[i])\n",
    "                        y_right.append(y[i])\n",
    "                if(len(y_left)==0 or len(y_right)==0):\n",
    "                    continue\n",
    "                g=GiniIndex(y_left,y_right)\n",
    "                if(g<gini):\n",
    "                    dim=d\n",
    "                    cutpoint=cut\n",
    "                    gini=g\n",
    "    return dim,cutpoint\n",
    "def build_tree(X,y,cutpoints,max_depth,min_samples,used_cuts=[],depth=0,random_predictors=4):\n",
    "    X=np.array(X)\n",
    "    y=np.array(y)\n",
    "    if(sum(y)==len(y)):\n",
    "        return TreeNode(prediction=1)\n",
    "    if(sum(y)==0):\n",
    "        return TreeNode(prediction=0)\n",
    "    if depth>max_depth or len(y)<=min_samples:\n",
    "        nyes=0\n",
    "        for i in y:\n",
    "            if(i==1):\n",
    "                nyes+=1\n",
    "        if(nyes>len(y)-nyes):\n",
    "            return TreeNode(prediction=1)\n",
    "        return TreeNode(prediction=0)\n",
    "    dimension,cutpoint=best_cut(X,y,cutpoints,used_cuts)\n",
    "    # print(dimension,cutpoint)\n",
    "\n",
    "    if dimension is None or cutpoint is None:\n",
    "        nyes=sum(y)\n",
    "        if(nyes>len(y)-nyes):\n",
    "            prediction=1\n",
    "        else:\n",
    "            prediction=0\n",
    "        return TreeNode(prediction=prediction)\n",
    "    used_cuts.append((dimension,cutpoint))\n",
    "    X_left=[]\n",
    "    y_left=[]\n",
    "    X_right=[]\n",
    "    y_right=[]\n",
    "    for i in range(X.shape[0]):\n",
    "        if(X[i][dimension]<=cutpoint):\n",
    "            X_left.append(X[i])\n",
    "            y_left.append(y[i])\n",
    "        else:\n",
    "            X_right.append(X[i])\n",
    "            y_right.append(y[i])\n",
    "    random_dims=[0,1,2,3]\n",
    "    if(random_predictors!=4):\n",
    "        random_dims=np.random.choice(np.arange(4),size=2,replace=False)\n",
    "    random_dims=list(random_dims)\n",
    "    left_node=build_tree(X_left,y_left,find_cutpoints(X_left,random_dims),max_depth,min_samples,used_cuts,depth+1)\n",
    "    right_node=build_tree(X_right,y_right,find_cutpoints(X_right,random_dims),max_depth,min_samples,used_cuts,depth+1)\n",
    "    return TreeNode(dimension,cutpoint,left_node,right_node)\n",
    "def test(x_test,tree):\n",
    "    if(tree.prediction is None):\n",
    "        if(x_test[tree.dimension]<=tree.cutpoint):\n",
    "            return test(x_test,tree.left)\n",
    "        else:\n",
    "            return test(x_test,tree.right)\n",
    "    return tree.prediction\n",
    "def print_tree(tree, indent=\"\"): \n",
    "    if tree is None:\n",
    "        return\n",
    "    if tree.prediction is not None:\n",
    "        print(indent + f\"Prediction: {tree.prediction}\")\n",
    "    else:\n",
    "        print(indent + f\"Feature {tree.dimension} <= {tree.cutpoint:.2f}\")\n",
    "    if tree.left:\n",
    "        print(indent + \"├── Left:\")\n",
    "        print_tree(tree.left, indent + \"│   \")\n",
    "    \n",
    "    if tree.right:\n",
    "        print(indent + \"└── Right:\")\n",
    "        print_tree(tree.right, indent + \"    \")\n",
    "\n"
   ]
  },
  {
   "cell_type": "code",
   "execution_count": 44,
   "metadata": {},
   "outputs": [
    {
     "name": "stdout",
     "output_type": "stream",
     "text": [
      "[(1, 1.5), (0, 47.5)]\n",
      "Feature 1 <= 1.50\n",
      "├── Left:\n",
      "│   Feature 0 <= 47.50\n",
      "│   ├── Left:\n",
      "│   │   Prediction: 1\n",
      "│   └── Right:\n",
      "│       Prediction: 0\n",
      "└── Right:\n",
      "    Prediction: 0\n",
      "Prediction for 42,0,0,1 is Yes\n"
     ]
    }
   ],
   "source": [
    "cutpoints=find_cutpoints(X)\n",
    "used_splits=[]\n",
    "tree=build_tree(X,y,cutpoints,4,2,used_splits)\n",
    "print(used_splits)\n",
    "print_tree(tree)\n",
    "if(test([42,0,0,1],tree)):\n",
    "    print(\"Prediction for 42,0,0,1 is Yes\")\n",
    "else:\n",
    "    print(\"Prediction for 42,0,0,1 is No\")\n",
    "\n"
   ]
  },
  {
   "cell_type": "markdown",
   "metadata": {},
   "source": [
    "Bagging"
   ]
  },
  {
   "cell_type": "code",
   "execution_count": 45,
   "metadata": {},
   "outputs": [
    {
     "name": "stdout",
     "output_type": "stream",
     "text": [
      "OOB_error is  0.6956521739130435\n",
      "[1 1 0 1 0 1 0 1 0 0]\n",
      "Prediction for 42,0,0,1 is No\n"
     ]
    }
   ],
   "source": [
    "Trees=[]\n",
    "OOB_size=0\n",
    "OOB_error = 0\n",
    "for i in range(10):\n",
    "    XBag=[]\n",
    "    YBag=[]\n",
    "    for j in range(len(X)):\n",
    "        x = np.random.randint(len(X))\n",
    "        XBag.append(X[x])\n",
    "        YBag.append(y[x])\n",
    "    XBag=np.array(XBag)\n",
    "    YBag=np.array(YBag)\n",
    "    cutpoints_bag = find_cutpoints(XBag)\n",
    "    OOB_X=[]\n",
    "    OOB_Y=[]\n",
    "    for k in range(len(X)):\n",
    "        if not any(np.array_equal(X[k], xb) for xb in XBag):\n",
    "            OOB_X.append(X[k])\n",
    "            OOB_Y.append(y[k])\n",
    "            OOB_size+=1\n",
    "    OOB_X=np.array(OOB_X)\n",
    "    bag_tree=build_tree(XBag,YBag,cutpoints_bag,4,2)\n",
    "    Trees.append(bag_tree)\n",
    "    for k in range(len(OOB_X)):\n",
    "        test_answer=test(OOB_X[k], bag_tree)\n",
    "        OOB_error+=(OOB_Y[k]-test_answer)**2\n",
    "print(\"OOB_error is \",OOB_error/OOB_size)\n",
    "def test_bagging(X_test,Trees):\n",
    "    y=[]\n",
    "    for tree in Trees:\n",
    "        y.append(test(X_test,tree))\n",
    "    y=np.array(y)\n",
    "    print(y)\n",
    "    return np.bincount(y).argmax()\n",
    "if(test_bagging([42,0,0,1],Trees)):\n",
    "    print(\"Prediction for 42,0,0,1 is Yes\")\n",
    "else:\n",
    "    print(\"Prediction for 42,0,0,1 is No\")\n"
   ]
  },
  {
   "cell_type": "code",
   "execution_count": 46,
   "metadata": {},
   "outputs": [
    {
     "name": "stdout",
     "output_type": "stream",
     "text": [
      "OOB_error for RF is  0.4827586206896552\n",
      "[1 1 0 1 1 0 1 1 1 1]\n",
      "Prediction for 42,0,0,1 is Yes\n"
     ]
    }
   ],
   "source": [
    "Trees=[]\n",
    "OOB_size=0\n",
    "OOB_error = 0\n",
    "for i in range(10):\n",
    "    XBag=[]\n",
    "    YBag=[]\n",
    "    for j in range(len(X)):\n",
    "        x = np.random.randint(len(X))\n",
    "        XBag.append(X[x])\n",
    "        YBag.append(y[x])\n",
    "    XBag=np.array(XBag)\n",
    "    YBag=np.array(YBag)\n",
    "    random_dims=np.random.choice(np.arange(4),size=2,replace=False)\n",
    "    random_dims=list(random_dims)\n",
    "    cutpoints_bag=find_cutpoints(XBag,random_dims)\n",
    "    OOB_X=[]\n",
    "    OOB_Y=[]\n",
    "    for k in range(len(X)):\n",
    "        if not any(np.array_equal(X[k], xb) for xb in XBag):\n",
    "            OOB_X.append(X[k])\n",
    "            OOB_Y.append(y[k])\n",
    "            OOB_size+=1\n",
    "    OOB_X=np.array(OOB_X)\n",
    "    bag_tree=build_tree(XBag,YBag,cutpoints_bag,4,2,random_predictors=2)\n",
    "    Trees.append(bag_tree)\n",
    "    for k in range(len(OOB_X)):\n",
    "        test_answer=test(OOB_X[k], bag_tree)\n",
    "        OOB_error+=(OOB_Y[k]-test_answer)**2\n",
    "print(\"OOB_error for RF is \",OOB_error/OOB_size)\n",
    "if(test_bagging([42,0,0,1],Trees)):\n",
    "    print(\"Prediction for 42,0,0,1 is Yes\")\n",
    "else:\n",
    "    print(\"Prediction for 42,0,0,1 is No\")\n"
   ]
  }
 ],
 "metadata": {
  "kernelspec": {
   "display_name": "Python 3",
   "language": "python",
   "name": "python3"
  },
  "language_info": {
   "codemirror_mode": {
    "name": "ipython",
    "version": 3
   },
   "file_extension": ".py",
   "mimetype": "text/x-python",
   "name": "python",
   "nbconvert_exporter": "python",
   "pygments_lexer": "ipython3",
   "version": "3.10.2"
  }
 },
 "nbformat": 4,
 "nbformat_minor": 2
}
